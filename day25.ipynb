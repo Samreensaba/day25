{
 "cells": [
  {
   "cell_type": "code",
   "execution_count": 2,
   "id": "7ea85928-5173-4e99-832e-99980fb8c57d",
   "metadata": {},
   "outputs": [
    {
     "name": "stdout",
     "output_type": "stream",
     "text": [
      "CHARECTER STAT GENERATOR\n",
      "\n"
     ]
    },
    {
     "name": "stdin",
     "output_type": "stream",
     "text": [
      "Name your warrior:  dad\n"
     ]
    },
    {
     "name": "stdout",
     "output_type": "stream",
     "text": [
      "Their health is \u001b[91m 25 \u001b[00m hp.\n",
      "\n"
     ]
    },
    {
     "name": "stdin",
     "output_type": "stream",
     "text": [
      "Want to create another character?y/n:  brother\n"
     ]
    }
   ],
   "source": [
    "import random\n",
    "print(\"CHARECTER STAT GENERATOR\")\n",
    "print()\n",
    "\n",
    "def rollDice(sides):\n",
    "  dice = random.randint(1,sides)\n",
    "  return dice\n",
    "\n",
    "def rolledDice():\n",
    "  dice6 = rollDice(6)\n",
    "  dice8 = rollDice(8)\n",
    "  health = dice6 * dice8\n",
    "  return health\n",
    "\n",
    "while True:\n",
    "  name = input(\"Name your warrior: \")\n",
    "  health = rolledDice()\n",
    "  print(\"Their health is \\033[91m\", health, \"\\033[00m hp.\")\n",
    "  print()\n",
    "  again = input(\"Want to create another character?y/n: \")\n",
    "  if again == \"y\":\n",
    "    continue\n",
    "  else:\n",
    "    break"
   ]
  },
  {
   "cell_type": "code",
   "execution_count": null,
   "id": "9fa38b1a-4311-48bd-9ba8-73060980016d",
   "metadata": {},
   "outputs": [],
   "source": []
  }
 ],
 "metadata": {
  "kernelspec": {
   "display_name": "Python 3 (ipykernel)",
   "language": "python",
   "name": "python3"
  },
  "language_info": {
   "codemirror_mode": {
    "name": "ipython",
    "version": 3
   },
   "file_extension": ".py",
   "mimetype": "text/x-python",
   "name": "python",
   "nbconvert_exporter": "python",
   "pygments_lexer": "ipython3",
   "version": "3.12.4"
  }
 },
 "nbformat": 4,
 "nbformat_minor": 5
}
